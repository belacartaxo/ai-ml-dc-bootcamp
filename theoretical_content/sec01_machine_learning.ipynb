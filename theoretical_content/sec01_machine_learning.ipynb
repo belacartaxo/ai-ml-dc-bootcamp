{
 "cells": [
  {
   "cell_type": "markdown",
   "metadata": {},
   "source": [
    "# Machine Learning"
   ]
  },
  {
   "cell_type": "markdown",
   "metadata": {},
   "source": [
    "## What is ML?\n",
    "Machine Learning (ML) is a subset of Artificial Intelligence (AI) that enables systems to learn from data and improve their performance over time without being explicitly programmed. It involves developing algorithms that can identify patterns, make predictions, and adapt based on new data.\n",
    "\n",
    "## AI, ML, and Data Science. What is the difference?\n",
    "- **Artificial Intelligence (AI)**: A broad field that aims to create intelligent machines that can simulate human intelligence, including reasoning, learning, and decision-making.\n",
    "- **Machine Learning (ML)**: A subset of AI that focuses on training models to learn from data and make predictions or decisions without explicit programming.\n",
    "- **Data Science**: An interdisciplinary field that uses statistical, mathematical, and computational techniques to extract insights from data. It encompasses AI and ML but also includes data engineering, visualization, and analytics.\n",
    "\n",
    "## Steps in a ML Project\n",
    "### 1. Data Collection\n",
    "The first step in an ML project is collecting relevant data. Data can come from various sources such as databases, APIs, or user-generated inputs. The quality and quantity of data significantly impact the performance of the ML model.\n",
    "\n",
    "### 2. Data Modeling\n",
    "#### Problem Definition\n",
    "- Clearly define the problem the ML model is intended to solve.\n",
    "\n",
    "#### Data\n",
    "- Identify the type of data available:\n",
    "  - **Structured**: Data organized into tables with rows and columns.\n",
    "  - **Unstructured**: Data such as images, videos, and text.\n",
    "  - **Static**: Pre-collected, non-changing datasets.\n",
    "  - **Streaming**: Real-time data that continuously updates.\n",
    "\n",
    "#### Evaluation\n",
    "- Determine success criteria:\n",
    "  - **Accuracy**: The percentage of correct predictions.\n",
    "  - **Precision**: The proportion of true positive predictions.\n",
    "  - **Recall**: The ability of the model to capture all relevant instances.\n",
    "\n",
    "#### Features\n",
    "- Select relevant features that will influence the model’s predictions.\n",
    "  - **Feature Variables**:\n",
    "    - Numerical: Continuous values (e.g., age, height).\n",
    "    - Categorical: Discrete values (e.g., gender, category labels).\n",
    "  - **Target Variables**: The outcome the model aims to predict.\n",
    "\n",
    "#### Modeling\n",
    "- Select the appropriate model type and training strategy.\n",
    "  - **Data Splitting**: Divide data into three sets:\n",
    "    - **Training Set** (70-80%): Used to train the model.\n",
    "    - **Validation Set** (10-15%): Used to fine-tune parameters and prevent overfitting.\n",
    "    - **Test Set** (10-15%): Used to evaluate final model performance.\n",
    "  - Ensure no data duplication to avoid the model memorizing instead of learning.\n",
    "  - Train the model using suitable algorithms.\n",
    "  - Tune hyperparameters to optimize performance.\n",
    "  - Compare different models based on:\n",
    "    - **Underfitting**: The model is too simple and performs poorly. Solutions include increasing model complexity, adjusting hyperparameters, or training longer.\n",
    "    - **Overfitting**: The model is too complex and memorizes training data. Solutions include collecting more data, simplifying the model, or using regularization techniques.\n",
    "    - **Data Leakage**: Unintentional sharing of information between training and validation sets.\n",
    "    - **Data Mismatch**: Differences in data distribution between training and real-world application.\n",
    "\n",
    "#### Experiments\n",
    "- Keep track of different model configurations and test alternative approaches.\n",
    "- Iterate based on evaluation results.\n",
    "\n",
    "### 3. Deployment\n",
    "After a model is trained and evaluated, it is deployed into production for real-world use. This step includes:\n",
    "- Integrating the model into an application or service.\n",
    "- Monitoring model performance over time.\n",
    "- Updating or retraining the model as new data becomes available.\n",
    "\n",
    "## Types of ML\n",
    "### 1. Supervised Learning\n",
    "- **Classification**: Categorizing data into predefined labels (e.g., spam detection).\n",
    "- **Regression**: Predicting continuous values (e.g., house price estimation).\n",
    "\n",
    "### 2. Unsupervised Learning\n",
    "- **Clustering**: Grouping data into clusters based on similarity (e.g., customer segmentation).\n",
    "- **Association Rule Learning**: Discovering relationships between variables (e.g., market basket analysis).\n",
    "\n",
    "### 3. Reinforcement Learning\n",
    "- **Skill Acquisition**: Training agents to learn optimal actions.\n",
    "- **Real-time Learning**: Adapting behavior based on dynamic environments.\n",
    "\n",
    "### 4. Transfer Learning\n",
    "Reusing a pre-trained model on a new task to improve performance and reduce training time."
   ]
  },
  {
   "cell_type": "code",
   "execution_count": 1,
   "metadata": {},
   "outputs": [
    {
     "name": "stdout",
     "output_type": "stream",
     "text": [
      "ola\n"
     ]
    }
   ],
   "source": [
    "print(\"ola\")"
   ]
  },
  {
   "cell_type": "code",
   "execution_count": null,
   "metadata": {},
   "outputs": [],
   "source": []
  }
 ],
 "metadata": {
  "kernelspec": {
   "display_name": "my_global_environment",
   "language": "python",
   "name": "python3"
  },
  "language_info": {
   "codemirror_mode": {
    "name": "ipython",
    "version": 3
   },
   "file_extension": ".py",
   "mimetype": "text/x-python",
   "name": "python",
   "nbconvert_exporter": "python",
   "pygments_lexer": "ipython3",
   "version": "3.9.21"
  }
 },
 "nbformat": 4,
 "nbformat_minor": 2
}
